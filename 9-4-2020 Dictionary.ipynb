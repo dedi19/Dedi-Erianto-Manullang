# Making Dictionary
Dedi_Manullang = {
    "nama": "Dedi Erianto Manullang",
    "umur": 35,
    "hobi": ["coding", "membaca", "main gitar"],
    "menikah": False,
    "sosmed": {
        "facebook": "Dedi Erianto Manullang",
        "twitter": "@Dedi-Erianto_Manullang"
    } 
}

# Dictionary function:
print("Nama saya adalah %s" % Dedi_Manullang["nama"])
print("Twitter: %s" % Dedi_Manullang["sosmed"]["twitter"])