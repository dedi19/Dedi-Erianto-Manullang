{
 "cells": [
  {
   "cell_type": "code",
   "execution_count": null,
   "metadata": {
    "collapsed": true
   },
   "outputs": [],
   "source": [
    "# EXAM SCHEDULE \n",
    "print(\"WELCOME TO MR.DEDI ENGLISH CLASS\")\n",
    "exam_st_date = (11,5,2020)\n",
    "print( \"The examination will start from : %i / %i / %i\"%exam_st_date)\n",
    "Math=float(input(\" monday, Math 7.pm, Tuesday,English 5.pm, Wednesday, Art  5.pm, Thursday, Music 8.pm   :\"))\n",
    "\n",
    "\n"
   ]
  }
 ],
 "metadata": {
  "kernelspec": {
   "display_name": "Python 3",
   "language": "python",
   "name": "python3"
  },
  "language_info": {
   "codemirror_mode": {
    "name": "ipython",
    "version": 3
   },
   "file_extension": ".py",
   "mimetype": "text/x-python",
   "name": "python",
   "nbconvert_exporter": "python",
   "pygments_lexer": "ipython3",
   "version": "3.7.4"
  }
 },
 "nbformat": 4,
 "nbformat_minor": 4
}
