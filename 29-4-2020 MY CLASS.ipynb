# MY CLASS
class MyClass:
    variable =" Hello.. Robert. Today in Medan is very Hot. I go sunbath and I drink lemon tea. I like hot weather"

    def function(self):
        print("This is a message inside the class.")

myobjectx = MyClass()

print(myobjectx.variable)
