print(" Repeating Python")
i = 1
while i <= 10000:
  print('www.dediclass.webs.com')
  i += 1
  