print("LEARNING PYTHON CONTUNUE STATEMENT WITH DEDI ERIANTO MANULLANG")
list=[1,2,3,4,5,6,7,8,9,10,11,12,13,14,15,16,17,18,19,20]
flag=0
for i in list:
    print("current element:",i,end='');
    if i==3:
        pass;
        print("\ your credit card is blocked\n");
        flag=1;
        if flag==1:
            print(" Please pay your credit card ");
            flag=0;
