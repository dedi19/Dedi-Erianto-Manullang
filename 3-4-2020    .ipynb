{
 "cells": [
  {
   "cell_type": "code",
   "execution_count": null,
   "metadata": {},
   "outputs": [
    {
     "name": "stdout",
     "output_type": "stream",
     "text": [
      "PLEASE GIVE THE CORRECT INFORMATION \n",
      "what is your name:James Taylor\n",
      "How old are you:35 years old\n"
     ]
    }
   ],
   "source": [
    "print(\"PLEASE GIVE THE CORRECT INFORMATION \")\n",
    "\n",
    "number1=input(\"what is your name:\")\n",
    "\n",
    "number2=input(\"How old are you:\")\n",
    "\n",
    "number3=input(\"Where are you from:\")\n",
    "\n",
    "number4=input(\"Are you student:\")\n",
    "\n",
    "number5=input(\"What is your Job: a. Doctor b. teacher c. lawyer d software engineer please pick one---\")\n",
    "\n",
    "number6=input(\"How long Have you been living in Calfornia:\")\n",
    "\n",
    "number7=input(\"Do you know Mr. Dedi Erianto Manullang From Indonesia? He is an Enlish teacher:\")\n",
    "\n",
    "number8=input(\"Have you ever been Indonesia:\")\n",
    "\n",
    "number9=input(\"Which places you visited in Indonesia:\")\n",
    "\n",
    "number10=input(\"do you enjoy the place that you visited:\")\n",
    "\n",
    "number11=input(\"will you donate $100 for Covid 19 victim  a. Yes B. No C I just can give $30:\")\n",
    "\n",
    "print(\"THANK YOU VERY MUCH FOR YOUR TIME PLEASE GET A SOFT DRINK FOR YOU  LOVE, RESPECT & HAPPINESS\")              "
   ]
  },
  {
   "cell_type": "code",
   "execution_count": null,
   "metadata": {},
   "outputs": [],
   "source": []
  }
 ],
 "metadata": {
  "kernelspec": {
   "display_name": "Python 3",
   "language": "python",
   "name": "python3"
  },
  "language_info": {
   "codemirror_mode": {
    "name": "ipython",
    "version": 3
   },
   "file_extension": ".py",
   "mimetype": "text/x-python",
   "name": "python",
   "nbconvert_exporter": "python",
   "pygments_lexer": "ipython3",
   "version": "3.7.4"
  }
 },
 "nbformat": 4,
 "nbformat_minor": 4
}
