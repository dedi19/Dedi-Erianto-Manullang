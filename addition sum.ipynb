# ADDITION SUM 
def sum_thrice(x, y, z):

     sum = 500000 + 300000 + 1000000
  
     if x == y == z:
      sum = sum * 3
     return sum

print(sum_thrice(1, 2, 3))
print(sum_thrice(3, 3, 3))
