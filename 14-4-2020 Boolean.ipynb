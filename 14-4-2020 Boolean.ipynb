type(True)
type(False)
bool(28)
bool(-2.71828)
bool(0)
bool("Turing")
bool(" ")
bool(" ")
str(True)
str(False)
int(True)
int(False)
5+True
10*False
a=3
b=5
a==b
a!=b
#Menghitung persegi panjang:
panjang=50
lebar=60
print(" Rumus adalah panjang x Lebar")
panjang*lebar
# Mencari rumus Segitiga:
alas=30
tinggi=90
print(" alas x tinggi/2 ")
alas*tinggi/2

