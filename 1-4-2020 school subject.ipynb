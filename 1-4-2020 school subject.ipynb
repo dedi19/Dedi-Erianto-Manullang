# SCHOOL SUBJECT
>>> " SCHOOL SCHEDULE SUBJECTS"
' SCHOOL SCHEDULE SUBJECTS'
>>> Monday="Science_Math_Chemistry"
>>> Tuesday=" English_Social study_History"
>>> Wednesday="Gym_swimming_Music"
>>> Thursday="drawing_Math_sports"
>>> Friday="English_Math_science"
>>> Saturday="Scout_activity_School_cleaning"
>>> 
