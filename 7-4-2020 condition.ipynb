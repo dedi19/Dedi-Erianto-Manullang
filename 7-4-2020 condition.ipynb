print(" LEARNING PYTHON FOR LOOP WITH DEDI ERIANTO MANULLANG")
#Learning Python for loop can solve math problem:
dedi=1
n=int(input(" Enter the number which do you want to ptint"))
for dedi in range(0,5000):
    print(dedi,end=' ') 
     
    dedi=2
n=int(input(" Enter the number which do you want to ptint"))
for dedi in range(500,1000):
    print(dedi,end=' ')
print(" PLEASE CHECKING YOUR NUMBER! GREETINGS FROM MEDAN INDONESIA")