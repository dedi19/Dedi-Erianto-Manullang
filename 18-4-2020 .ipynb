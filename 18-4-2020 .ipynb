print("SELAMAT DATANG DI TOKO DEDI ERIANTO MANULLANG TOKO SERBA ADA")

total_belanja = input("Total belanja: Rp600000")
# jumlah yang harus dibayar adalah berapa total belanjaannya
# tapi kalau dapat diskon akan berkurang
bayar = total_belanja

# jika dia belanja di atas 500000rb maka berikan bonus dan diskon
if total_belanja > 600000:
    print("Kamu mendapatkan bonus minuman dingin")
    print("dan diskon 5%")

    # hitung diskonnya
    diskon = total_belanja * 5/100 #5%
    bayar = total_belanja - diskon


# cetak struk
print("Total yang harus dibayar: Rp %s" % bayar)
print("Terima kasih sudah berbelanja")
print("Datang lagi yaa ke toko Dedi Manullang...")