# LOOKING AT WEBSITE VIA PYTHON
{
 "cells": [
  {
   "cell_type": "code",
   "execution_count": 6,
   "metadata": {},
   "outputs": [
    {
     "data": {
      "text/plain": [
       "{'Date': 'Wed, 29 Apr 2020 19:39:08 GMT', 'Content-Type': 'text/html; charset=UTF-8', 'Transfer-Encoding': 'chunked', 'Connection': 'keep-alive', 'Set-Cookie': '__cfduid=d3a78cc1e967270df35a0e15ce89059101588189148; expires=Fri, 29-May-20 19:39:08 GMT; path=/; domain=.thejakartapost.com; HttpOnly; SameSite=Lax; Secure, XSRF-TOKEN=eyJpdiI6IkF4M3VpUjdoNU9MaEdcL3ZVNHJBcEZRPT0iLCJ2YWx1ZSI6Im9SNVczWER1bnpWc0V6U2tVOU1jb1l2cWNoNnNDZTlJSDhRd3lEXC9CYW1qbWs4eFVSOEdBVk52dVpvUmxHWGNMNnBvdXNxcmxxdzBLYnhpd2dqY1wvV1E9PSIsIm1hYyI6ImJjODg3ZjBkMjcxNzEyYzYzOGZhNDI4NzQ5MDVmMDg0ZjJjMWM5YmFhMDA0MTg3NTg0ODI5NzUxYmE2NTNkODgifQ%3D%3D; expires=Thu, 30-Apr-2020 19:39:08 GMT; Max-Age=86400; path=/; domain=www.thejakartapost.com; secure, laravel_session=eyJpdiI6IlpxY1F4cjhIb2d0c0tTXC9nQVpcL1M5QT09IiwidmFsdWUiOiJJcEppNVNOcFVXOXJQVm9aMlRJZFwvanZENFNCQkRlMUw3VjJNTDE3cFwvUVNcL0hQRU5NdWRzSHlSVm9UV0cxbVlNcVQrQTBBbVFvT2hhZHhKZ212a0xQdz09IiwibWFjIjoiYzU3YTQwMTFjMzUwOTdkNWViM2NjYTQ1NTc2MWMwMjlkOTAwMmQ5NGNiZDdmZThiZjkzYWJlMWU0NjM3ZWYxZiJ9; expires=Thu, 30-Apr-2020 19:39:08 GMT; Max-Age=86400; path=/; domain=www.thejakartapost.com; secure; httponly', 'Vary': 'Accept-Encoding', 'Cache-Control': 'no-cache', 'X-': 'www01clon', 'Age': '0', 'CF-Cache-Status': 'DYNAMIC', 'Expect-CT': 'max-age=604800, report-uri=\"https://report-uri.cloudflare.com/cdn-cgi/beacon/expect-ct\"', 'Server': 'cloudflare', 'CF-RAY': '58bb7cc31fd8dd16-SIN', 'Content-Encoding': 'gzip', 'cf-request-id': '02690c4dec0000dd16f62a1200000001'}"
      ]
     },
     "execution_count": 6,
     "metadata": {},
     "output_type": "execute_result"
    }
   ],
   "source": [
    "import requests\n",
    "r = requests.get(\"https://www.thejakartapost.com\")\n",
    "r.status_code\n",
    "r.headers\n"
   ]
  },
  {
   "cell_type": "code",
   "execution_count": null,
   "metadata": {},
   "outputs": [],
   "source": []
  }
 ],
 "metadata": {
  "kernelspec": {
   "display_name": "Python 3",
   "language": "python",
   "name": "python3"
  },
  "language_info": {
   "codemirror_mode": {
    "name": "ipython",
    "version": 3
   },
   "file_extension": ".py",
   "mimetype": "text/x-python",
   "name": "python",
   "nbconvert_exporter": "python",
   "pygments_lexer": "ipython3",
   "version": "3.7.4"
  }
 },
 "nbformat": 4,
 "nbformat_minor": 4
}
