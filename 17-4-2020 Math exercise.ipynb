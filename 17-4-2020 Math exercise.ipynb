# MATH EXERCISE 
print("EXERCISE DATA TYPES NUMBER DEDI MANULLANG")
import  math
num1=5
num2=3
type(num1)
result=num1/num2
type(result)
num1=102931.60
num1=5
num1+num2
num1**5
5/3
((2+2/4))+2/3*5
((3/3+2/4))*2/3
20/100*400.000
import math
math.factorial(5)
math.log(20)
from fractions import Fraction
Fraction('3/7')
math.factorial(25)
math.log(35)
print("THANK YOU VERY MUCH INDEED")


