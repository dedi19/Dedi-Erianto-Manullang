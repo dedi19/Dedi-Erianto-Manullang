# THIS IS MATH RADIUS
import math
radius=float(input("type the radius of the circle"))
area=math.pi*(radius**2)
circumference=2*math.pi*radius
print(" the area of the circle is",round(area,2))
print("the circumference of the circle is",round (circumference,2))
