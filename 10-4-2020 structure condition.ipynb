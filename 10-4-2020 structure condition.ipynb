print("Midterm English exam on www.dediclass.webs.com")
score = 60
 
if score >= 75:
  print('congratulate you pass the test')
else:
  print('Please prepare for your remedial course')
  