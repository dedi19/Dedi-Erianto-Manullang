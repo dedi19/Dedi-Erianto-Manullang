print("PLEASE GIVE THE CORRECT INFORMATION ")

number1=input("what is your name:")

number2=input("How old are you:")

number3=input("Where are you from:")

number4=input("Are you student:")

number5=input("What is your Job: a. Doctor b. teacher c. lawyer d software engineer please pick one---")

number6=input("How long Have you been living in Calfornia:")

number7=input("Do you know Mr. Dedi Erianto Manullang From Indonesia? He is an Enlish teacher:")

number8=input("Have you ever been Indonesia:")

number9=input("Which places you visited in Indonesia:")

number10=input("do you enjoy the place that you visited:")

number11=input("will you donate $100 for Covid 19 victim  a. Yes B. No C I just can give $30:")

print("THANK YOU VERY MUCH FOR YOUR TIME PLEASE GET A SOFT DRINK FOR YOU  LOVE, RESPECT & HAPPINESS")              