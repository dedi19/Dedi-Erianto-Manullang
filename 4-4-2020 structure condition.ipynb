# EXAM
print("Midterm English exam on www.dediclass.webs.com")
score = 79
 
if score >= 75:
  print('congratulate you pass the test')
else:
  print('Please prepare for your remedial course')
  
