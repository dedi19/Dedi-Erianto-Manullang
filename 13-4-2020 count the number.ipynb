# Count the Number
{
 "cells": [
  {
   "cell_type": "code",
   "execution_count": 1,
   "metadata": {},
   "outputs": [
    {
     "name": "stdout",
     "output_type": "stream",
     "text": [
      "(10, 20, 30, 40, 50, 60, 80, 90, 100)\n",
      "tuple1[100]=10\n",
      "tuple1[100]=20\n",
      "tuple1[100]=30\n",
      "tuple1[100]=40\n",
      "tuple1[100]=50\n",
      "tuple1[100]=60\n",
      "tuple1[100]=80\n",
      "tuple1[100]=90\n",
      "tuple1[100]=100\n"
     ]
    }
   ],
   "source": [
    "tuple1=(10,20,30,40,50,60,80,90,100)\n",
    "print(tuple1)\n",
    "count=100\n",
    "for i in tuple1:\n",
    "    print(\"tuple1[%d]=%d\"%(count,i));\n",
    "    \n",
    "    \n",
    "    \n",
    "\n",
    "    \n",
    "    \n",
    "    "
   ]
  },
  {
   "cell_type": "code",
   "execution_count": null,
   "metadata": {},
   "outputs": [],
   "source": []
  }
 ],
 "metadata": {
  "kernelspec": {
   "display_name": "Python 3",
   "language": "python",
   "name": "python3"
  },
  "language_info": {
   "codemirror_mode": {
    "name": "ipython",
    "version": 3
   },
   "file_extension": ".py",
   "mimetype": "text/x-python",
   "name": "python",
   "nbconvert_exporter": "python",
   "pygments_lexer": "ipython3",
   "version": "3.7.4"
  }
 },
 "nbformat": 4,
 "nbformat_minor": 4
}
