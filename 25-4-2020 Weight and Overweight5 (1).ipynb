{
 "cells": [
  {
   "cell_type": "code",
   "execution_count": null,
   "metadata": {},
   "outputs": [
    {
     "name": "stdout",
     "output_type": "stream",
     "text": [
      " WELCOME TO THE PROGRAMMING OF WEIGHT, OVER WEIGHT OR OBESITY OF MR. DEDI ERIANTO MANULLANG\n"
     ]
    }
   ],
   "source": [
    "# CALCULATE WEIGHT AND OVER WEIGHT\n",
    "print(\" WELCOME TO THE PROGRAMMING OF WEIGHT, OVER WEIGHT OR OBESITY OF MR. DEDI ERIANTO MANULLANG\")\n",
    "weight=float(input(\"Type your weight in Kg(ex.70.5:\"))\n",
    "height=float(input(\"Type your height in Meters(ex. 1.70):\"))\n",
    "\n",
    "bmi = weight / (height**2)\n",
    "\n",
    "\n",
    "print(\" your BMI is: \",round(bmi,2))\n",
    "\n",
    "if (bmi <= 18.5):\n",
    "    classification=\"Underweight\"\n",
    "elif (bmi>18.5 and bmi <= 24.9):\n",
    "    classification=\"Normal Weight\"\n",
    "elif(bmi > 24.9 and bmi <= 29.9):\n",
    "   classification=\"Overweight\"\n",
    "else:\n",
    "    Classification=\"Obesity\"\n",
    "    \n",
    "print(\" The classification of your BMI is:\", classification)\n",
    "print (\" Thank you for visiting Mr. Dedi Erianto Manullang My LAB. Please get your soft drink\")"
   ]
  },
  {
   "cell_type": "code",
   "execution_count": null,
   "metadata": {},
   "outputs": [],
   "source": []
  }
 ],
 "metadata": {
  "kernelspec": {
   "display_name": "Python 3",
   "language": "python",
   "name": "python3"
  },
  "language_info": {
   "codemirror_mode": {
    "name": "ipython",
    "version": 3
   },
   "file_extension": ".py",
   "mimetype": "text/x-python",
   "name": "python",
   "nbconvert_exporter": "python",
   "pygments_lexer": "ipython3",
   "version": "3.7.4"
  }
 },
 "nbformat": 4,
 "nbformat_minor": 4
}
