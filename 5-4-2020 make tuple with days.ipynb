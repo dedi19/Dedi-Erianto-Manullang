print(" Membuat Tuple dengan hari")
# Membuat tuple dengan hari:
hari = ('Senin', 'Selasa', 'Rabu', 'Kamis', 'Jum\'at', 'Sabtu', 'Minggu')

# Mengambil panjang tuple hari
print("Jumlah hari: %d" % len(hari))