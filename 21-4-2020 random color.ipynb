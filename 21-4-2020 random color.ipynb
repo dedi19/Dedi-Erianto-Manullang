# RANDOM FOR COLOR 
import random
colors={"white", "black", "red", "green", "blue","yellow","purple","grey"}

while True:
    color=colors[random.randint(0,len(colors)-1)]
    guess = input(" I am thinking about color, can you guess it:")
    
    while True:
        if(color==guess.lower()):
            break
        else:
            guess = input("Nope, try again:")
            print("you guessed it! I was thinking about",color)
            play_again=input("let's play again.Type 'no'to quit.")
            if play_again.lower()=='no':
                break
                print("It was fun playing with game!")
