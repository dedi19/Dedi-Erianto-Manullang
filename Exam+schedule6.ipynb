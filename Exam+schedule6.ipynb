{
 "cells": [
  {
   "cell_type": "code",
   "execution_count": null,
   "metadata": {
    "collapsed": true
   },
   "outputs": [],
   "source": [
    "print(\"WELCOME TO MR.DEDI ENGLISH CLASS\")\n",
    "exam_st_date = (11,5,2020)\n",
    "print( \"The examination will start from : %i / %i / %i\"%exam_st_date)\n",
    "Math=float(input(\" monday, Math 7.pm, Tuesday,English 5.pm, Wednesday, Art  5.pm, Thursday, Music 8.pm   :\"))\n",
    "\n",
    "\n"
   ]
  }
 ],
 "metadata": {
  "kernelspec": {
   "display_name": "Python 3",
   "language": "python",
   "name": "python3"
  }
 },
 "nbformat": 4,
 "nbformat_minor": 4
}
