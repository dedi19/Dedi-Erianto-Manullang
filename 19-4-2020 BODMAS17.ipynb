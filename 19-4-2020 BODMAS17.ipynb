#Import math:
print("Let's we learn BODMAS")
25-35*40
20+65-30
(25*5)+23-7
20**2+40-20(24-10)
75/5(30-10)
2/3+20/100-30
90-26+(24-35)
2110-3100*20
print("WELCOME TO DEDI CLASS")
import datetime
today=datetime.datetime.today()
print("today")
print(today.date())