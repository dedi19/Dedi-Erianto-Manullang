# RANDOM NAME OF PERSON
{
 "cells": [
  {
   "cell_type": "code",
   "execution_count": null,
   "metadata": {},
   "outputs": [
    {
     "name": "stdout",
     "output_type": "stream",
     "text": [
      "Type the name of a personJeni\n",
      "['Jeni']\n",
      "Type the name of a personJack\n",
      "['Jeni', 'Jack']\n",
      "Type the name of a personBudi\n",
      "['Jeni', 'Jack', 'Budi']\n"
     ]
    }
   ],
   "source": [
    "people=[]\n",
    "\n",
    "while len(people)  < 5:\n",
    "    person= input(\"Type the name of a person\")\n",
    "    people.append(person)\n",
    "    \n",
    "    print(people)"
   ]
  },
  {
   "cell_type": "code",
   "execution_count": null,
   "metadata": {},
   "outputs": [],
   "source": []
  }
 ],
 "metadata": {
  "kernelspec": {
   "display_name": "Python 3",
   "language": "python",
   "name": "python3"
  },
  "language_info": {
   "codemirror_mode": {
    "name": "ipython",
    "version": 3
   },
   "file_extension": ".py",
   "mimetype": "text/x-python",
   "name": "python",
   "nbconvert_exporter": "python",
   "pygments_lexer": "ipython3",
   "version": "3.7.4"
  }
 },
 "nbformat": 4,
 "nbformat_minor": 4
}
