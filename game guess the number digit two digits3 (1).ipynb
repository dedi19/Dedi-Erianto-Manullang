{
 "cells": [
  {
   "cell_type": "code",
   "execution_count": null,
   "metadata": {},
   "outputs": [],
   "source": [
    "# GUESS NUMBER OF GAME\n",
    "guess=int(input(\"I am thingking about a number between zero and ten, Can you quess it? If you can you can drink a bottle of beer\"))\n",
    "\n",
    "while True:\n",
    "    if guess==number:\n",
    "        break\n",
    "    else:\n",
    "        guess=int(input(\"Nope try again:\"))\n",
    "    print(\"You guessed it, I am thinnking about\", number)\n",
    "    "
   ]
  },
  {
   "cell_type": "code",
   "execution_count": null,
   "metadata": {},
   "outputs": [],
   "source": []
  }
 ],
 "metadata": {
  "kernelspec": {
   "display_name": "Python 3",
   "language": "python",
   "name": "python3"
  },
  "language_info": {
   "codemirror_mode": {
    "name": "ipython",
    "version": 3
   },
   "file_extension": ".py",
   "mimetype": "text/x-python",
   "name": "python",
   "nbconvert_exporter": "python",
   "pygments_lexer": "ipython3",
   "version": "3.7.4"
  }
 },
 "nbformat": 4,
 "nbformat_minor": 4
}
